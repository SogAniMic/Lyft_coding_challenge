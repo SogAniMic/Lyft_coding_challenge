{
 "cells": [
  {
   "cell_type": "markdown",
   "id": "6dd7155a",
   "metadata": {},
   "source": [
    "# Given a list of integers and a number K, return which contiguous elements of the list sum to K.\n",
    "\n",
    "For example, if the list is [1, 2, 3, 4, 5] and K is 9, then it should return [2, 3, 4], since 2 + 3 + 4 = 9. "
   ]
  },
  {
   "cell_type": "code",
   "execution_count": null,
   "id": "4ef3a311",
   "metadata": {},
   "outputs": [],
   "source": [
    "def find_continuous_k(list, k):\n",
    "    previous = dict()\n",
    "    sum = 0\n",
    "    # sublist starting at the zeroth position work.\n",
    "    previous[0] = -1\n",
    "    for last_idx, item in enumerate(list):\n",
    "        sum += item\n",
    "        previous[sum] = last_idx\n",
    "        first_idx = previous.get(sum - k)\n",
    "        if first_idx is not None:\n",
    "            return list[first_idx + 1:last_idx + 1]\n",
    "    return None"
   ]
  }
 ],
 "metadata": {
  "kernelspec": {
   "display_name": "Python 3 (ipykernel)",
   "language": "python",
   "name": "python3"
  },
  "language_info": {
   "codemirror_mode": {
    "name": "ipython",
    "version": 3
   },
   "file_extension": ".py",
   "mimetype": "text/x-python",
   "name": "python",
   "nbconvert_exporter": "python",
   "pygments_lexer": "ipython3",
   "version": "3.9.13"
  }
 },
 "nbformat": 4,
 "nbformat_minor": 5
}
